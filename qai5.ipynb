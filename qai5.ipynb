{
 "cells": [
  {
   "cell_type": "markdown",
   "id": "736d3e47-c133-40f1-8098-4e98798f0e19",
   "metadata": {},
   "source": [
    "Implementing a 5 qubit Quantum Fourier Transform"
   ]
  },
  {
   "cell_type": "code",
   "execution_count": 3,
   "id": "08a3e5a2-721b-45c6-a2f1-898d6f959837",
   "metadata": {},
   "outputs": [],
   "source": [
    "import numpy as np\n",
    "from qiskit import QuantumRegister, ClassicalRegister\n",
    "from qiskit import QuantumCircuit,transpile\n",
    "from qiskit_aer import AerSimulator"
   ]
  },
  {
   "cell_type": "code",
   "execution_count": 5,
   "id": "5cf86482-7f77-47eb-8eff-c551c71b7557",
   "metadata": {},
   "outputs": [],
   "source": [
    "from qiskit.circuit.library import QFT"
   ]
  },
  {
   "cell_type": "code",
   "execution_count": 7,
   "id": "e74f67c0-9ee0-4f36-9525-caaed2d8d088",
   "metadata": {},
   "outputs": [],
   "source": [
    " # Set up the AerSimulator backend\n",
    "simulator = AerSimulator()"
   ]
  },
  {
   "cell_type": "code",
   "execution_count": 9,
   "id": "88c2b361-c0a7-4d27-bd5b-24b0be0c6130",
   "metadata": {},
   "outputs": [],
   "source": [
    "q = QuantumRegister(5,'q')\n",
    "c = ClassicalRegister(5,'c')\n",
    "circuit = QuantumCircuit(q,c)"
   ]
  },
  {
   "cell_type": "code",
   "execution_count": 11,
   "id": "98b7a7d0-3ada-441c-86d0-139bb0bf7c26",
   "metadata": {},
   "outputs": [],
   "source": [
    "circuit = QuantumCircuit(q, c)"
   ]
  },
  {
   "cell_type": "code",
   "execution_count": 13,
   "id": "f44ec4e1-0c63-432c-b203-f47b29ce035b",
   "metadata": {},
   "outputs": [
    {
     "data": {
      "text/plain": [
       "<qiskit.circuit.instructionset.InstructionSet at 0x133503640>"
      ]
     },
     "execution_count": 13,
     "metadata": {},
     "output_type": "execute_result"
    }
   ],
   "source": [
    "circuit.h(q) "
   ]
  },
  {
   "cell_type": "code",
   "execution_count": 15,
   "id": "136f2d4c-b7e1-4902-b661-6c89da1286bf",
   "metadata": {},
   "outputs": [
    {
     "data": {
      "text/plain": [
       "<qiskit.circuit.instructionset.InstructionSet at 0x131c12710>"
      ]
     },
     "execution_count": 15,
     "metadata": {},
     "output_type": "execute_result"
    }
   ],
   "source": [
    "# Apply X gates to specific qubits (as per your original code)\n",
    "circuit.x(q[4])\n",
    "circuit.x(q[2])\n",
    "circuit.x(q[0])"
   ]
  },
  {
   "cell_type": "code",
   "execution_count": 17,
   "id": "36bd8b2a-d329-4982-900a-868181ea5db6",
   "metadata": {},
   "outputs": [
    {
     "data": {
      "text/plain": [
       "<qiskit.circuit.instructionset.InstructionSet at 0x131c73400>"
      ]
     },
     "execution_count": 17,
     "metadata": {},
     "output_type": "execute_result"
    }
   ],
   "source": [
    "# Apply the Quantum Fourier Transform (QFT)\n",
    "qft_circuit = QFT(num_qubits=5, approximation_degree=0, do_swaps=True, inverse=False, insert_barriers=False, name=\"qft\")\n",
    "circuit.append(qft_circuit, q)"
   ]
  },
  {
   "cell_type": "code",
   "execution_count": 19,
   "id": "6db90d9a-510b-4293-bb54-4a2492709952",
   "metadata": {},
   "outputs": [
    {
     "data": {
      "text/html": [
       "<pre style=\"word-wrap: normal;white-space: pre;background: #fff0;line-height: 1.1;font-family: &quot;Courier New&quot;,Courier,monospace\">     ┌───┐┌───┐┌──────┐┌──────┐┌─┐            \n",
       "q_0: ┤ H ├┤ X ├┤0     ├┤0     ├┤M├────────────\n",
       "     ├───┤└───┘│      ││      │└╥┘┌─┐         \n",
       "q_1: ┤ H ├─────┤1     ├┤1     ├─╫─┤M├─────────\n",
       "     ├───┤┌───┐│      ││      │ ║ └╥┘┌─┐      \n",
       "q_2: ┤ H ├┤ X ├┤2 qft ├┤2 qft ├─╫──╫─┤M├──────\n",
       "     ├───┤└───┘│      ││      │ ║  ║ └╥┘┌─┐   \n",
       "q_3: ┤ H ├─────┤3     ├┤3     ├─╫──╫──╫─┤M├───\n",
       "     ├───┤┌───┐│      ││      │ ║  ║  ║ └╥┘┌─┐\n",
       "q_4: ┤ H ├┤ X ├┤4     ├┤4     ├─╫──╫──╫──╫─┤M├\n",
       "     └───┘└───┘└──────┘└──────┘ ║  ║  ║  ║ └╥┘\n",
       "c: 5/═══════════════════════════╩══╩══╩══╩══╩═\n",
       "                                0  1  2  3  4 </pre>"
      ],
      "text/plain": [
       "     ┌───┐┌───┐┌──────┐┌──────┐┌─┐            \n",
       "q_0: ┤ H ├┤ X ├┤0     ├┤0     ├┤M├────────────\n",
       "     ├───┤└───┘│      ││      │└╥┘┌─┐         \n",
       "q_1: ┤ H ├─────┤1     ├┤1     ├─╫─┤M├─────────\n",
       "     ├───┤┌───┐│      ││      │ ║ └╥┘┌─┐      \n",
       "q_2: ┤ H ├┤ X ├┤2 qft ├┤2 qft ├─╫──╫─┤M├──────\n",
       "     ├───┤└───┘│      ││      │ ║  ║ └╥┘┌─┐   \n",
       "q_3: ┤ H ├─────┤3     ├┤3     ├─╫──╫──╫─┤M├───\n",
       "     ├───┤┌───┐│      ││      │ ║  ║  ║ └╥┘┌─┐\n",
       "q_4: ┤ H ├┤ X ├┤4     ├┤4     ├─╫──╫──╫──╫─┤M├\n",
       "     └───┘└───┘└──────┘└──────┘ ║  ║  ║  ║ └╥┘\n",
       "c: 5/═══════════════════════════╩══╩══╩══╩══╩═\n",
       "                                0  1  2  3  4 "
      ]
     },
     "execution_count": 19,
     "metadata": {},
     "output_type": "execute_result"
    }
   ],
   "source": [
    "circuit = circuit.compose(qft_circuit)\n",
    "circuit.measure(q,c) # Measure the qubits and store the result in classical register\n",
    "circuit.draw()"
   ]
  },
  {
   "cell_type": "code",
   "execution_count": 21,
   "id": "0f47b3d4-28eb-4c1b-afb5-6a02eea7ea32",
   "metadata": {},
   "outputs": [],
   "source": [
    "transpiled_circuit = transpile(circuit, simulator)"
   ]
  },
  {
   "cell_type": "code",
   "execution_count": 23,
   "id": "9124141b-852e-4ab9-86a9-5abddb5eeb7e",
   "metadata": {},
   "outputs": [],
   "source": [
    "job = simulator.run(transpiled_circuit,shots=1000)"
   ]
  },
  {
   "cell_type": "code",
   "execution_count": 25,
   "id": "25eeda42-943f-4e12-b0fc-c6a0695c5b34",
   "metadata": {},
   "outputs": [
    {
     "name": "stdout",
     "output_type": "stream",
     "text": [
      "Job is running...\n",
      "Final job status: JobStatus.DONE\n"
     ]
    }
   ],
   "source": [
    "print(\"Job is running...\")\n",
    "print(f\"Final job status: {job.status()}\")"
   ]
  },
  {
   "cell_type": "code",
   "execution_count": 27,
   "id": "6a97c19a-9845-432a-992e-60994404aab3",
   "metadata": {},
   "outputs": [
    {
     "name": "stdout",
     "output_type": "stream",
     "text": [
      "\n",
      " QFT Output\n",
      "-------------\n",
      "{'11110': 27, '10010': 20, '00000': 28, '11100': 30, '00100': 34, '01000': 35, '01011': 23, '11000': 32, '00101': 35, '10101': 41, '10001': 21, '01101': 29, '10111': 25, '01010': 40, '00111': 28, '10100': 38, '10011': 25, '01110': 38, '01100': 34, '11111': 35, '10110': 36, '11101': 38, '00110': 23, '00011': 40, '11010': 31, '00001': 41, '01001': 30, '11011': 32, '01111': 28, '00010': 33, '11001': 23, '10000': 27}\n"
     ]
    }
   ],
   "source": [
    "job_result = job.result()\n",
    "counts = job_result.get_counts()\n",
    "print(\"\\n QFT Output\")\n",
    "print(\"-------------\")\n",
    "print(counts)"
   ]
  },
  {
   "cell_type": "code",
   "execution_count": null,
   "id": "576bac9e-f78b-492d-b8bf-c9cacd7015ee",
   "metadata": {},
   "outputs": [],
   "source": []
  }
 ],
 "metadata": {
  "kernelspec": {
   "display_name": "Python 3 (ipykernel)",
   "language": "python",
   "name": "python3"
  },
  "language_info": {
   "codemirror_mode": {
    "name": "ipython",
    "version": 3
   },
   "file_extension": ".py",
   "mimetype": "text/x-python",
   "name": "python",
   "nbconvert_exporter": "python",
   "pygments_lexer": "ipython3",
   "version": "3.12.7"
  }
 },
 "nbformat": 4,
 "nbformat_minor": 5
}
